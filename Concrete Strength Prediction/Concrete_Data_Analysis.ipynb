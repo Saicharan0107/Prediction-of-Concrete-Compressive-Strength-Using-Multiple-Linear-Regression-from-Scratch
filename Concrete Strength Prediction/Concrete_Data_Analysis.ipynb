{
 "cells": [
  {
   "cell_type": "code",
   "execution_count": 1,
   "id": "1163fd2b",
   "metadata": {},
   "outputs": [
    {
     "name": "stdout",
     "output_type": "stream",
     "text": [
      "Requirement already satisfied: pandas in c:\\users\\sai charan\\appdata\\local\\programs\\python\\python311\\lib\\site-packages (2.2.3)\n",
      "Requirement already satisfied: numpy in c:\\users\\sai charan\\appdata\\local\\programs\\python\\python311\\lib\\site-packages (1.26.4)\n",
      "Requirement already satisfied: scipy in c:\\users\\sai charan\\appdata\\local\\programs\\python\\python311\\lib\\site-packages (1.15.2)\n",
      "Requirement already satisfied: matplotlib in c:\\users\\sai charan\\appdata\\local\\programs\\python\\python311\\lib\\site-packages (3.9.0)\n",
      "Requirement already satisfied: seaborn in c:\\users\\sai charan\\appdata\\local\\programs\\python\\python311\\lib\\site-packages (0.13.2)\n",
      "Requirement already satisfied: python-dateutil>=2.8.2 in c:\\users\\sai charan\\appdata\\roaming\\python\\python311\\site-packages (from pandas) (2.8.2)\n",
      "Requirement already satisfied: pytz>=2020.1 in c:\\users\\sai charan\\appdata\\local\\programs\\python\\python311\\lib\\site-packages (from pandas) (2024.2)\n",
      "Requirement already satisfied: tzdata>=2022.7 in c:\\users\\sai charan\\appdata\\local\\programs\\python\\python311\\lib\\site-packages (from pandas) (2024.2)\n",
      "Requirement already satisfied: contourpy>=1.0.1 in c:\\users\\sai charan\\appdata\\local\\programs\\python\\python311\\lib\\site-packages (from matplotlib) (1.2.1)\n",
      "Requirement already satisfied: cycler>=0.10 in c:\\users\\sai charan\\appdata\\local\\programs\\python\\python311\\lib\\site-packages (from matplotlib) (0.12.1)\n",
      "Requirement already satisfied: fonttools>=4.22.0 in c:\\users\\sai charan\\appdata\\local\\programs\\python\\python311\\lib\\site-packages (from matplotlib) (4.53.0)\n",
      "Requirement already satisfied: kiwisolver>=1.3.1 in c:\\users\\sai charan\\appdata\\local\\programs\\python\\python311\\lib\\site-packages (from matplotlib) (1.4.5)\n",
      "Requirement already satisfied: packaging>=20.0 in c:\\users\\sai charan\\appdata\\roaming\\python\\python311\\site-packages (from matplotlib) (23.2)\n",
      "Requirement already satisfied: pillow>=8 in c:\\users\\sai charan\\appdata\\local\\programs\\python\\python311\\lib\\site-packages (from matplotlib) (10.3.0)\n",
      "Requirement already satisfied: pyparsing>=2.3.1 in c:\\users\\sai charan\\appdata\\local\\programs\\python\\python311\\lib\\site-packages (from matplotlib) (3.1.2)\n",
      "Requirement already satisfied: six>=1.5 in c:\\users\\sai charan\\appdata\\roaming\\python\\python311\\site-packages (from python-dateutil>=2.8.2->pandas) (1.16.0)\n"
     ]
    },
    {
     "name": "stderr",
     "output_type": "stream",
     "text": [
      "\n",
      "[notice] A new release of pip is available: 25.0.1 -> 25.1.1\n",
      "[notice] To update, run: python.exe -m pip install --upgrade pip\n"
     ]
    }
   ],
   "source": [
    "!pip install pandas numpy scipy matplotlib seaborn"
   ]
  },
  {
   "cell_type": "code",
   "execution_count": 2,
   "id": "de0445fb",
   "metadata": {},
   "outputs": [],
   "source": [
    "import numpy as np\n",
    "import pandas as pd\n",
    "import matplotlib.pyplot as plt"
   ]
  },
  {
   "cell_type": "code",
   "execution_count": 3,
   "id": "873a0412",
   "metadata": {},
   "outputs": [],
   "source": [
    "#concrete data\n",
    "df=pd.read_csv(\"Concrete_Data.csv\")"
   ]
  },
  {
   "cell_type": "code",
   "execution_count": 4,
   "id": "eb105a97",
   "metadata": {},
   "outputs": [
    {
     "name": "stdout",
     "output_type": "stream",
     "text": [
      "Index(['cement', 'slag', 'flyash', 'water', 'superplasticizer',\n",
      "       'coarseaggregate', 'fineaggregate', 'age', 'csMPa'],\n",
      "      dtype='object')\n"
     ]
    }
   ],
   "source": [
    "print(df.columns)"
   ]
  },
  {
   "cell_type": "code",
   "execution_count": 5,
   "id": "084d27c0",
   "metadata": {},
   "outputs": [],
   "source": [
    "df.columns=[\"cement\",\"slag\",\"ash\",\"water\",\"splast\",\"coarse\",\"fine\",\"age\",\"strength\"]"
   ]
  },
  {
   "cell_type": "code",
   "execution_count": 6,
   "id": "c8b2ed61",
   "metadata": {},
   "outputs": [
    {
     "data": {
      "text/html": [
       "<div>\n",
       "<style scoped>\n",
       "    .dataframe tbody tr th:only-of-type {\n",
       "        vertical-align: middle;\n",
       "    }\n",
       "\n",
       "    .dataframe tbody tr th {\n",
       "        vertical-align: top;\n",
       "    }\n",
       "\n",
       "    .dataframe thead th {\n",
       "        text-align: right;\n",
       "    }\n",
       "</style>\n",
       "<table border=\"1\" class=\"dataframe\">\n",
       "  <thead>\n",
       "    <tr style=\"text-align: right;\">\n",
       "      <th></th>\n",
       "      <th>cement</th>\n",
       "      <th>slag</th>\n",
       "      <th>ash</th>\n",
       "      <th>water</th>\n",
       "      <th>splast</th>\n",
       "      <th>coarse</th>\n",
       "      <th>fine</th>\n",
       "      <th>age</th>\n",
       "      <th>strength</th>\n",
       "    </tr>\n",
       "  </thead>\n",
       "  <tbody>\n",
       "    <tr>\n",
       "      <th>0</th>\n",
       "      <td>540.0</td>\n",
       "      <td>0.0</td>\n",
       "      <td>0.0</td>\n",
       "      <td>162.0</td>\n",
       "      <td>2.5</td>\n",
       "      <td>1040.0</td>\n",
       "      <td>676.0</td>\n",
       "      <td>28</td>\n",
       "      <td>79.99</td>\n",
       "    </tr>\n",
       "    <tr>\n",
       "      <th>1</th>\n",
       "      <td>540.0</td>\n",
       "      <td>0.0</td>\n",
       "      <td>0.0</td>\n",
       "      <td>162.0</td>\n",
       "      <td>2.5</td>\n",
       "      <td>1055.0</td>\n",
       "      <td>676.0</td>\n",
       "      <td>28</td>\n",
       "      <td>61.89</td>\n",
       "    </tr>\n",
       "    <tr>\n",
       "      <th>2</th>\n",
       "      <td>332.5</td>\n",
       "      <td>142.5</td>\n",
       "      <td>0.0</td>\n",
       "      <td>228.0</td>\n",
       "      <td>0.0</td>\n",
       "      <td>932.0</td>\n",
       "      <td>594.0</td>\n",
       "      <td>270</td>\n",
       "      <td>40.27</td>\n",
       "    </tr>\n",
       "    <tr>\n",
       "      <th>3</th>\n",
       "      <td>332.5</td>\n",
       "      <td>142.5</td>\n",
       "      <td>0.0</td>\n",
       "      <td>228.0</td>\n",
       "      <td>0.0</td>\n",
       "      <td>932.0</td>\n",
       "      <td>594.0</td>\n",
       "      <td>365</td>\n",
       "      <td>41.05</td>\n",
       "    </tr>\n",
       "    <tr>\n",
       "      <th>4</th>\n",
       "      <td>198.6</td>\n",
       "      <td>132.4</td>\n",
       "      <td>0.0</td>\n",
       "      <td>192.0</td>\n",
       "      <td>0.0</td>\n",
       "      <td>978.4</td>\n",
       "      <td>825.5</td>\n",
       "      <td>360</td>\n",
       "      <td>44.30</td>\n",
       "    </tr>\n",
       "  </tbody>\n",
       "</table>\n",
       "</div>"
      ],
      "text/plain": [
       "   cement   slag  ash  water  splast  coarse   fine  age  strength\n",
       "0   540.0    0.0  0.0  162.0     2.5  1040.0  676.0   28     79.99\n",
       "1   540.0    0.0  0.0  162.0     2.5  1055.0  676.0   28     61.89\n",
       "2   332.5  142.5  0.0  228.0     0.0   932.0  594.0  270     40.27\n",
       "3   332.5  142.5  0.0  228.0     0.0   932.0  594.0  365     41.05\n",
       "4   198.6  132.4  0.0  192.0     0.0   978.4  825.5  360     44.30"
      ]
     },
     "execution_count": 6,
     "metadata": {},
     "output_type": "execute_result"
    }
   ],
   "source": [
    "df.head()"
   ]
  },
  {
   "cell_type": "code",
   "execution_count": 7,
   "id": "0ef63b75",
   "metadata": {},
   "outputs": [
    {
     "data": {
      "text/html": [
       "<div>\n",
       "<style scoped>\n",
       "    .dataframe tbody tr th:only-of-type {\n",
       "        vertical-align: middle;\n",
       "    }\n",
       "\n",
       "    .dataframe tbody tr th {\n",
       "        vertical-align: top;\n",
       "    }\n",
       "\n",
       "    .dataframe thead th {\n",
       "        text-align: right;\n",
       "    }\n",
       "</style>\n",
       "<table border=\"1\" class=\"dataframe\">\n",
       "  <thead>\n",
       "    <tr style=\"text-align: right;\">\n",
       "      <th></th>\n",
       "      <th>cement</th>\n",
       "      <th>slag</th>\n",
       "      <th>ash</th>\n",
       "      <th>water</th>\n",
       "      <th>splast</th>\n",
       "      <th>coarse</th>\n",
       "      <th>fine</th>\n",
       "      <th>age</th>\n",
       "      <th>strength</th>\n",
       "    </tr>\n",
       "  </thead>\n",
       "  <tbody>\n",
       "    <tr>\n",
       "      <th>1025</th>\n",
       "      <td>276.4</td>\n",
       "      <td>116.0</td>\n",
       "      <td>90.3</td>\n",
       "      <td>179.6</td>\n",
       "      <td>8.9</td>\n",
       "      <td>870.1</td>\n",
       "      <td>768.3</td>\n",
       "      <td>28</td>\n",
       "      <td>44.28</td>\n",
       "    </tr>\n",
       "    <tr>\n",
       "      <th>1026</th>\n",
       "      <td>322.2</td>\n",
       "      <td>0.0</td>\n",
       "      <td>115.6</td>\n",
       "      <td>196.0</td>\n",
       "      <td>10.4</td>\n",
       "      <td>817.9</td>\n",
       "      <td>813.4</td>\n",
       "      <td>28</td>\n",
       "      <td>31.18</td>\n",
       "    </tr>\n",
       "    <tr>\n",
       "      <th>1027</th>\n",
       "      <td>148.5</td>\n",
       "      <td>139.4</td>\n",
       "      <td>108.6</td>\n",
       "      <td>192.7</td>\n",
       "      <td>6.1</td>\n",
       "      <td>892.4</td>\n",
       "      <td>780.0</td>\n",
       "      <td>28</td>\n",
       "      <td>23.70</td>\n",
       "    </tr>\n",
       "    <tr>\n",
       "      <th>1028</th>\n",
       "      <td>159.1</td>\n",
       "      <td>186.7</td>\n",
       "      <td>0.0</td>\n",
       "      <td>175.6</td>\n",
       "      <td>11.3</td>\n",
       "      <td>989.6</td>\n",
       "      <td>788.9</td>\n",
       "      <td>28</td>\n",
       "      <td>32.77</td>\n",
       "    </tr>\n",
       "    <tr>\n",
       "      <th>1029</th>\n",
       "      <td>260.9</td>\n",
       "      <td>100.5</td>\n",
       "      <td>78.3</td>\n",
       "      <td>200.6</td>\n",
       "      <td>8.6</td>\n",
       "      <td>864.5</td>\n",
       "      <td>761.5</td>\n",
       "      <td>28</td>\n",
       "      <td>32.40</td>\n",
       "    </tr>\n",
       "  </tbody>\n",
       "</table>\n",
       "</div>"
      ],
      "text/plain": [
       "      cement   slag    ash  water  splast  coarse   fine  age  strength\n",
       "1025   276.4  116.0   90.3  179.6     8.9   870.1  768.3   28     44.28\n",
       "1026   322.2    0.0  115.6  196.0    10.4   817.9  813.4   28     31.18\n",
       "1027   148.5  139.4  108.6  192.7     6.1   892.4  780.0   28     23.70\n",
       "1028   159.1  186.7    0.0  175.6    11.3   989.6  788.9   28     32.77\n",
       "1029   260.9  100.5   78.3  200.6     8.6   864.5  761.5   28     32.40"
      ]
     },
     "execution_count": 7,
     "metadata": {},
     "output_type": "execute_result"
    }
   ],
   "source": [
    "df.tail()"
   ]
  },
  {
   "cell_type": "code",
   "execution_count": 8,
   "id": "446751fc",
   "metadata": {},
   "outputs": [
    {
     "name": "stdout",
     "output_type": "stream",
     "text": [
      "<class 'pandas.core.frame.DataFrame'>\n",
      "RangeIndex: 1030 entries, 0 to 1029\n",
      "Data columns (total 9 columns):\n",
      " #   Column    Non-Null Count  Dtype  \n",
      "---  ------    --------------  -----  \n",
      " 0   cement    1030 non-null   float64\n",
      " 1   slag      1030 non-null   float64\n",
      " 2   ash       1030 non-null   float64\n",
      " 3   water     1030 non-null   float64\n",
      " 4   splast    1030 non-null   float64\n",
      " 5   coarse    1030 non-null   float64\n",
      " 6   fine      1030 non-null   float64\n",
      " 7   age       1030 non-null   int64  \n",
      " 8   strength  1030 non-null   float64\n",
      "dtypes: float64(8), int64(1)\n",
      "memory usage: 72.5 KB\n"
     ]
    }
   ],
   "source": [
    "df.info()"
   ]
  },
  {
   "cell_type": "code",
   "execution_count": 44,
   "id": "67133b59",
   "metadata": {},
   "outputs": [
    {
     "data": {
      "text/html": [
       "<div>\n",
       "<style scoped>\n",
       "    .dataframe tbody tr th:only-of-type {\n",
       "        vertical-align: middle;\n",
       "    }\n",
       "\n",
       "    .dataframe tbody tr th {\n",
       "        vertical-align: top;\n",
       "    }\n",
       "\n",
       "    .dataframe thead th {\n",
       "        text-align: right;\n",
       "    }\n",
       "</style>\n",
       "<table border=\"1\" class=\"dataframe\">\n",
       "  <thead>\n",
       "    <tr style=\"text-align: right;\">\n",
       "      <th></th>\n",
       "      <th>count</th>\n",
       "      <th>mean</th>\n",
       "      <th>std</th>\n",
       "      <th>min</th>\n",
       "      <th>25%</th>\n",
       "      <th>50%</th>\n",
       "      <th>75%</th>\n",
       "      <th>max</th>\n",
       "    </tr>\n",
       "  </thead>\n",
       "  <tbody>\n",
       "    <tr>\n",
       "      <th>cement</th>\n",
       "      <td>1005.0</td>\n",
       "      <td>278.631343</td>\n",
       "      <td>104.344261</td>\n",
       "      <td>102.00</td>\n",
       "      <td>190.70</td>\n",
       "      <td>265.0</td>\n",
       "      <td>349.00</td>\n",
       "      <td>540.0</td>\n",
       "    </tr>\n",
       "    <tr>\n",
       "      <th>slag</th>\n",
       "      <td>1005.0</td>\n",
       "      <td>72.043483</td>\n",
       "      <td>86.170807</td>\n",
       "      <td>0.00</td>\n",
       "      <td>0.00</td>\n",
       "      <td>20.0</td>\n",
       "      <td>142.50</td>\n",
       "      <td>359.4</td>\n",
       "    </tr>\n",
       "    <tr>\n",
       "      <th>ash</th>\n",
       "      <td>1005.0</td>\n",
       "      <td>55.536318</td>\n",
       "      <td>64.207969</td>\n",
       "      <td>0.00</td>\n",
       "      <td>0.00</td>\n",
       "      <td>0.0</td>\n",
       "      <td>118.30</td>\n",
       "      <td>200.1</td>\n",
       "    </tr>\n",
       "    <tr>\n",
       "      <th>water</th>\n",
       "      <td>1005.0</td>\n",
       "      <td>182.075323</td>\n",
       "      <td>21.339334</td>\n",
       "      <td>121.80</td>\n",
       "      <td>166.60</td>\n",
       "      <td>185.7</td>\n",
       "      <td>192.90</td>\n",
       "      <td>247.0</td>\n",
       "    </tr>\n",
       "    <tr>\n",
       "      <th>splast</th>\n",
       "      <td>1005.0</td>\n",
       "      <td>6.033234</td>\n",
       "      <td>5.919967</td>\n",
       "      <td>0.00</td>\n",
       "      <td>0.00</td>\n",
       "      <td>6.1</td>\n",
       "      <td>10.00</td>\n",
       "      <td>32.2</td>\n",
       "    </tr>\n",
       "    <tr>\n",
       "      <th>coarse</th>\n",
       "      <td>1005.0</td>\n",
       "      <td>974.376816</td>\n",
       "      <td>77.579667</td>\n",
       "      <td>801.00</td>\n",
       "      <td>932.00</td>\n",
       "      <td>968.0</td>\n",
       "      <td>1031.00</td>\n",
       "      <td>1145.0</td>\n",
       "    </tr>\n",
       "    <tr>\n",
       "      <th>fine</th>\n",
       "      <td>1005.0</td>\n",
       "      <td>772.688259</td>\n",
       "      <td>80.340435</td>\n",
       "      <td>594.00</td>\n",
       "      <td>724.30</td>\n",
       "      <td>780.0</td>\n",
       "      <td>822.20</td>\n",
       "      <td>992.6</td>\n",
       "    </tr>\n",
       "    <tr>\n",
       "      <th>age</th>\n",
       "      <td>1005.0</td>\n",
       "      <td>45.856716</td>\n",
       "      <td>63.734692</td>\n",
       "      <td>1.00</td>\n",
       "      <td>7.00</td>\n",
       "      <td>28.0</td>\n",
       "      <td>56.00</td>\n",
       "      <td>365.0</td>\n",
       "    </tr>\n",
       "    <tr>\n",
       "      <th>strength</th>\n",
       "      <td>1005.0</td>\n",
       "      <td>35.250378</td>\n",
       "      <td>16.284815</td>\n",
       "      <td>2.33</td>\n",
       "      <td>23.52</td>\n",
       "      <td>33.8</td>\n",
       "      <td>44.87</td>\n",
       "      <td>82.6</td>\n",
       "    </tr>\n",
       "  </tbody>\n",
       "</table>\n",
       "</div>"
      ],
      "text/plain": [
       "           count        mean         std     min     25%    50%      75%  \\\n",
       "cement    1005.0  278.631343  104.344261  102.00  190.70  265.0   349.00   \n",
       "slag      1005.0   72.043483   86.170807    0.00    0.00   20.0   142.50   \n",
       "ash       1005.0   55.536318   64.207969    0.00    0.00    0.0   118.30   \n",
       "water     1005.0  182.075323   21.339334  121.80  166.60  185.7   192.90   \n",
       "splast    1005.0    6.033234    5.919967    0.00    0.00    6.1    10.00   \n",
       "coarse    1005.0  974.376816   77.579667  801.00  932.00  968.0  1031.00   \n",
       "fine      1005.0  772.688259   80.340435  594.00  724.30  780.0   822.20   \n",
       "age       1005.0   45.856716   63.734692    1.00    7.00   28.0    56.00   \n",
       "strength  1005.0   35.250378   16.284815    2.33   23.52   33.8    44.87   \n",
       "\n",
       "             max  \n",
       "cement     540.0  \n",
       "slag       359.4  \n",
       "ash        200.1  \n",
       "water      247.0  \n",
       "splast      32.2  \n",
       "coarse    1145.0  \n",
       "fine       992.6  \n",
       "age        365.0  \n",
       "strength    82.6  "
      ]
     },
     "execution_count": 44,
     "metadata": {},
     "output_type": "execute_result"
    }
   ],
   "source": [
    "df.describe().T"
   ]
  },
  {
   "cell_type": "code",
   "execution_count": 14,
   "id": "c78ffaf8",
   "metadata": {},
   "outputs": [
    {
     "data": {
      "text/plain": [
       "cement      0\n",
       "slag        0\n",
       "ash         0\n",
       "water       0\n",
       "splast      0\n",
       "coarse      0\n",
       "fine        0\n",
       "age         0\n",
       "strength    0\n",
       "dtype: int64"
      ]
     },
     "execution_count": 14,
     "metadata": {},
     "output_type": "execute_result"
    }
   ],
   "source": [
    "df.isnull().sum()"
   ]
  },
  {
   "cell_type": "code",
   "execution_count": 18,
   "id": "a581e807",
   "metadata": {},
   "outputs": [
    {
     "name": "stdout",
     "output_type": "stream",
     "text": [
      "     cement   slag  ash  water  splast  coarse   fine  age  strength\n",
      "77    425.0  106.3  0.0  153.5    16.5   852.1  887.1    3     33.40\n",
      "80    425.0  106.3  0.0  153.5    16.5   852.1  887.1    3     33.40\n",
      "86    362.6  189.0  0.0  164.9    11.6   944.7  755.8    3     35.30\n",
      "88    362.6  189.0  0.0  164.9    11.6   944.7  755.8    3     35.30\n",
      "91    362.6  189.0  0.0  164.9    11.6   944.7  755.8    3     35.30\n",
      "100   425.0  106.3  0.0  153.5    16.5   852.1  887.1    7     49.20\n",
      "103   425.0  106.3  0.0  153.5    16.5   852.1  887.1    7     49.20\n",
      "109   362.6  189.0  0.0  164.9    11.6   944.7  755.8    7     55.90\n",
      "111   362.6  189.0  0.0  164.9    11.6   944.7  755.8    7     55.90\n",
      "123   425.0  106.3  0.0  153.5    16.5   852.1  887.1   28     60.29\n",
      "126   425.0  106.3  0.0  153.5    16.5   852.1  887.1   28     60.29\n",
      "132   362.6  189.0  0.0  164.9    11.6   944.7  755.8   28     71.30\n",
      "134   362.6  189.0  0.0  164.9    11.6   944.7  755.8   28     71.30\n",
      "137   362.6  189.0  0.0  164.9    11.6   944.7  755.8   28     71.30\n",
      "146   425.0  106.3  0.0  153.5    16.5   852.1  887.1   56     64.30\n",
      "149   425.0  106.3  0.0  153.5    16.5   852.1  887.1   56     64.30\n",
      "155   362.6  189.0  0.0  164.9    11.6   944.7  755.8   56     77.30\n",
      "157   362.6  189.0  0.0  164.9    11.6   944.7  755.8   56     77.30\n",
      "160   362.6  189.0  0.0  164.9    11.6   944.7  755.8   56     77.30\n",
      "169   425.0  106.3  0.0  153.5    16.5   852.1  887.1   91     65.20\n",
      "172   425.0  106.3  0.0  153.5    16.5   852.1  887.1   91     65.20\n",
      "177   362.6  189.0  0.0  164.9    11.6   944.7  755.8   91     79.30\n",
      "179   362.6  189.0  0.0  164.9    11.6   944.7  755.8   91     79.30\n",
      "182   362.6  189.0  0.0  164.9    11.6   944.7  755.8   91     79.30\n",
      "809   252.0    0.0  0.0  185.0     0.0  1111.0  784.0   28     19.69\n"
     ]
    }
   ],
   "source": [
    "df.duplicated().sum()\n",
    "duplicates=df[df.duplicated()]\n",
    "print(duplicates)"
   ]
  },
  {
   "cell_type": "code",
   "execution_count": 20,
   "id": "e52d0b53",
   "metadata": {},
   "outputs": [
    {
     "name": "stdout",
     "output_type": "stream",
     "text": [
      "0\n"
     ]
    }
   ],
   "source": [
    "df=df.drop_duplicates()\n",
    "print(df.duplicated().sum())"
   ]
  },
  {
   "cell_type": "code",
   "execution_count": 22,
   "id": "726bd07e",
   "metadata": {},
   "outputs": [
    {
     "name": "stdout",
     "output_type": "stream",
     "text": [
      "1005 9\n"
     ]
    }
   ],
   "source": [
    "number_of_samples,number_of_features=df.shape\n",
    "print(number_of_samples,number_of_features)"
   ]
  },
  {
   "cell_type": "code",
   "execution_count": 23,
   "id": "090f0163",
   "metadata": {},
   "outputs": [],
   "source": [
    "X=df.iloc[:,:-1].values\n",
    "Y=df.iloc[:,-1].values\n",
    "beta=np.zeros((number_of_features,1))"
   ]
  },
  {
   "cell_type": "code",
   "execution_count": 24,
   "id": "5f5af296",
   "metadata": {},
   "outputs": [],
   "source": [
    "def feature_normalisation(X):\n",
    "    #shape of X be m*n \n",
    "    #mean of all features\n",
    "    mean=np.mean(X,axis=0)  #mean of every column, shape will be 1*n\n",
    "    std=np.std(X,axis=0)  #standard deviation of all columns, shape is 1*n\n",
    "    #normalise X, such that mean will be 0 and std deviation will be 1.\n",
    "    X_normalised = (X-mean)/std\n",
    "\n",
    "    return X_normalised,mean,std"
   ]
  },
  {
   "cell_type": "code",
   "execution_count": 25,
   "id": "0162358b",
   "metadata": {},
   "outputs": [],
   "source": [
    "X_normalised,mean_X,std_X=feature_normalisation(X)"
   ]
  },
  {
   "cell_type": "code",
   "execution_count": 66,
   "id": "ab1b1fc0",
   "metadata": {},
   "outputs": [
    {
     "name": "stdout",
     "output_type": "stream",
     "text": [
      "(1005, 9)\n",
      "(1005, 1)\n"
     ]
    }
   ],
   "source": [
    "#adding ones column now.\n",
    "\n",
    "ones=np.ones((number_of_samples,1))\n",
    "X=np.hstack([ones,X_normalised])\n",
    "print(X.shape)\n",
    "Y=Y.reshape(-1,1)\n",
    "print(Y.shape)"
   ]
  },
  {
   "cell_type": "code",
   "execution_count": 67,
   "id": "6df7a9f8",
   "metadata": {},
   "outputs": [],
   "source": [
    "def normal_equation(X,Y):\n",
    "    \"\"\"\n",
    "    using normal eqaution Y=X*beta\n",
    "    here beta is unknown\n",
    "\n",
    "    X shape is (m,n+1)\n",
    "    Y shape is (m,1)\n",
    "    Beta shape is (n+1,1) and is unknown\n",
    "\n",
    "    if the matrix is square matrix then we can invert and bring it to the other side. but the problem here is X is not a square matrix\n",
    "    To convert into square matrix, multiply by XT on both sides\n",
    "    => XT*Y=(XT*X)*beta\n",
    "\n",
    "    XT shape is (n+1,m)\n",
    "    XT*X shape is (m,m). now we can invert it.\n",
    "\n",
    "    => inv(XT*X)*XT*Y=beta    #this is the desired equation...\n",
    "\n",
    "    \"\"\"\n",
    "    XT=X.T\n",
    "    XTX=XT @ X\n",
    "    inv=np.linalg.inv(XTX)\n",
    "    beta= inv @ XT @ Y\n",
    "    return beta"
   ]
  },
  {
   "cell_type": "code",
   "execution_count": 68,
   "id": "d5d63d54",
   "metadata": {},
   "outputs": [],
   "source": [
    "beta=normal_equation(X,Y)"
   ]
  },
  {
   "cell_type": "code",
   "execution_count": 69,
   "id": "8764dac3",
   "metadata": {},
   "outputs": [
    {
     "name": "stdout",
     "output_type": "stream",
     "text": [
      "[[53.27576238]\n",
      " [53.51092933]\n",
      " [56.31212137]\n",
      " ...\n",
      " [26.483843  ]\n",
      " [28.9047317 ]\n",
      " [31.93129573]]\n"
     ]
    }
   ],
   "source": [
    "y_pred=X @ beta\n",
    "print(y_pred)"
   ]
  },
  {
   "cell_type": "code",
   "execution_count": 70,
   "id": "4e82eb01",
   "metadata": {},
   "outputs": [
    {
     "name": "stdout",
     "output_type": "stream",
     "text": [
      "R Squre for Linear regression is 0.6038823287824169\n"
     ]
    }
   ],
   "source": [
    "ss_total=np.sum((Y-np.mean(Y))**2)\n",
    "ss_res=np.sum((Y-y_pred)**2)\n",
    "r_square=1-(ss_res/ss_total)\n",
    "print(\"R Squre for Linear regression is\", r_square)"
   ]
  },
  {
   "cell_type": "code",
   "execution_count": 71,
   "id": "7890546d",
   "metadata": {},
   "outputs": [
    {
     "name": "stdout",
     "output_type": "stream",
     "text": [
      "Mean Absolute Error is 8.140804404269986\n",
      "Mean Squared Error is 104.94398376071963\n",
      "Root Mean Squared Error is 10.244217088714962\n"
     ]
    }
   ],
   "source": [
    "mae=np.mean(np.abs(Y-y_pred))\n",
    "\n",
    "mse = np.mean((Y-y_pred)**2)\n",
    "rmse=np.sqrt(mse)\n",
    "\n",
    "print(\"Mean Absolute Error is\",mae)\n",
    "print(\"Mean Squared Error is\",mse)\n",
    "print(\"Root Mean Squared Error is\",rmse)"
   ]
  },
  {
   "cell_type": "code",
   "execution_count": 72,
   "id": "3bd890f5",
   "metadata": {},
   "outputs": [
    {
     "data": {
      "image/png": "[encoded data removed]",
      "text/plain": [
       "<Figure size 640x480 with 1 Axes>"
      ]
     },
     "metadata": {},
     "output_type": "display_data"
    }
   ],
   "source": [
    "residuals=Y-y_pred\n",
    "\n",
    "plt.scatter(y_pred,residuals)\n",
    "plt.axhline(y=0,color='r',linestyle='--')\n",
    "plt.xlabel(\"Predicted Values\")\n",
    "plt.ylabel(\"Residuals\")\n",
    "plt.title(\"Residuals Plot\")\n",
    "plt.show()"
   ]
  },
  {
   "cell_type": "code",
   "execution_count": 73,
   "id": "00ffdc95",
   "metadata": {},
   "outputs": [
    {
     "data": {
      "image/png": "[encoded data removed]",
      "text/plain": [
       "<Figure size 640x480 with 1 Axes>"
      ]
     },
     "metadata": {},
     "output_type": "display_data"
    }
   ],
   "source": [
    "plt.scatter(Y,y_pred)\n",
    "plt.xlabel(\"Actual Values\")\n",
    "plt.ylabel(\"Predicted Values\")\n",
    "plt.title(\"Actual Vs Predicted\")\n",
    "plt.plot([Y.min(),Y.max()],[Y.min(),Y.max()],color='red')\n",
    "plt.show()"
   ]
  },
  {
   "cell_type": "markdown",
   "id": "ba17cdc2",
   "metadata": {},
   "source": [
    "Implmentation using gradient descent"
   ]
  },
  {
   "cell_type": "code",
   "execution_count": 74,
   "id": "f5d221c4",
   "metadata": {},
   "outputs": [],
   "source": [
    "def cost(X, Y, beta):\n",
    "    m = X.shape[0]\n",
    "    h = X @ beta\n",
    "    J = (1 / (2 * m)) * ((h - Y).T @ (h - Y)).item()\n",
    "    return J\n"
   ]
  },
  {
   "cell_type": "code",
   "execution_count": 90,
   "id": "e4e6adc1",
   "metadata": {},
   "outputs": [],
   "source": [
    "def gradient_descent(X, Y, beta, alpha=0.0005, iter=5000):\n",
    "    m = X.shape[0]                  # number of samples\n",
    "    J = np.zeros(iter)             # to store cost at each iteration\n",
    "\n",
    "    for i in range(iter):\n",
    "        h = X @ beta               # hypothesis\n",
    "        gradient = (1 / m) * (X.T @ (h - Y))\n",
    "        #print(gradient.shape)\n",
    "        beta = beta - alpha * gradient\n",
    "        J[i] = cost(X, Y, beta)    # compute cost for current beta\n",
    "\n",
    "    return beta, J\n"
   ]
  },
  {
   "cell_type": "code",
   "execution_count": 91,
   "id": "9698c3c9",
   "metadata": {},
   "outputs": [
    {
     "name": "stdout",
     "output_type": "stream",
     "text": [
      "[[32.35865936]\n",
      " [ 6.35734469]\n",
      " [ 2.58321049]\n",
      " [-0.09891579]\n",
      " [-4.45954734]\n",
      " [ 3.74626918]\n",
      " [-1.50051742]\n",
      " [-2.65833071]\n",
      " [ 5.85224476]]\n"
     ]
    }
   ],
   "source": [
    "alpha=0.001\n",
    "betaG=np.zeros((number_of_features,1))\n",
    "#print(betaG.shape)\n",
    "betaG,J=gradient_descent(X,Y,betaG)\n",
    "\n",
    "print(betaG)\n",
    "\n"
   ]
  },
  {
   "cell_type": "code",
   "execution_count": 93,
   "id": "1c4fd86d",
   "metadata": {},
   "outputs": [
    {
     "data": {
      "image/png": "[encoded data removed]",
      "text/plain": [
       "<Figure size 1200x700 with 1 Axes>"
      ]
     },
     "metadata": {},
     "output_type": "display_data"
    }
   ],
   "source": [
    "plt.figure(figsize=(12,7))\n",
    "plt.plot(range(5000),J,color=\"blue\",linewidth=3)\n",
    "plt.xlabel(\"Iterations\")\n",
    "plt.ylabel(\"Cost Value\")\n",
    "plt.title(\"Cost values Vs iteration\")\n",
    "plt.show()"
   ]
  },
  {
   "cell_type": "code",
   "execution_count": 94,
   "id": "b9b8b452",
   "metadata": {},
   "outputs": [
    {
     "name": "stdout",
     "output_type": "stream",
     "text": [
      "Comparison of betas by various methods\n",
      "From Normal Equation [[35.25037811]\n",
      " [12.22743179]\n",
      " [ 8.56679804]\n",
      " [ 5.49497662]\n",
      " [-3.24722921]\n",
      " [ 1.68596792]\n",
      " [ 1.21567297]\n",
      " [ 1.47186672]\n",
      " [ 7.14605281]]\n",
      "From Gradient Descent algo [[32.35865936]\n",
      " [ 6.35734469]\n",
      " [ 2.58321049]\n",
      " [-0.09891579]\n",
      " [-4.45954734]\n",
      " [ 3.74626918]\n",
      " [-1.50051742]\n",
      " [-2.65833071]\n",
      " [ 5.85224476]]\n"
     ]
    }
   ],
   "source": [
    "print(\"Comparison of betas by various methods\")\n",
    "print(\"From Normal Equation\", beta)\n",
    "print(\"From Gradient Descent algo\",betaG)\n"
   ]
  }
 ],
 "metadata": {
  "kernelspec": {
   "display_name": "Python 3",
   "language": "python",
   "name": "python3"
  },
  "language_info": {
   "codemirror_mode": {
    "name": "ipython",
    "version": 3
   },
   "file_extension": ".py",
   "mimetype": "text/x-python",
   "name": "python",
   "nbconvert_exporter": "python",
   "pygments_lexer": "ipython3",
   "version": "3.11.0"
  }
 },
 "nbformat": 4,
 "nbformat_minor": 5
}
